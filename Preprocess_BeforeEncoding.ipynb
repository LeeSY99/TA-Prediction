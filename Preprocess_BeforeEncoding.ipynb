{
  "cells": [
    {
      "cell_type": "markdown",
      "metadata": {
        "colab_type": "text",
        "id": "view-in-github"
      },
      "source": [
        "<a href=\"https://colab.research.google.com/github/zooodung/TA-Prediction/blob/main/Preprocess_BeforeEncoding.ipynb\" target=\"_parent\"><img src=\"https://colab.research.google.com/assets/colab-badge.svg\" alt=\"Open In Colab\"/></a>"
      ]
    },
    {
      "cell_type": "markdown",
      "metadata": {
        "id": "DQuJOLRx7kBx"
      },
      "source": [
        "# 교통사고 위험도 예측"
      ]
    },
    {
      "cell_type": "markdown",
      "metadata": {
        "id": "hr1s4yXY7foG"
      },
      "source": [
        "## 라이브러리 및 파일 호출"
      ]
    },
    {
      "cell_type": "code",
      "execution_count": 2,
      "metadata": {
        "colab": {
          "base_uri": "https://localhost:8080/"
        },
        "id": "46G7zWOVUbYm",
        "outputId": "fc0d3724-f950-4070-902e-63a5797c1e0a"
      },
      "outputs": [],
      "source": [
        "import pandas as pd\n",
        "import numpy as np\n",
        "import matplotlib.pyplot as plt\n",
        "import seaborn as sns\n",
        "from pytimekr import pytimekr\n",
        "from sklearn.preprocessing import LabelEncoder\n",
        "import os"
      ]
    },
    {
      "cell_type": "code",
      "execution_count": 3,
      "metadata": {
        "id": "Ef7f-nY5Lmk-"
      },
      "outputs": [],
      "source": [
        "path=os.getcwd()"
      ]
    },
    {
      "cell_type": "code",
      "execution_count": 4,
      "metadata": {
        "id": "uqaZSfrqV-6_"
      },
      "outputs": [],
      "source": [
        "daegu_data=pd.read_csv(path + f'/데이터들/전처리 전/train.csv')\n",
        "wide_data=pd.read_csv(path + f'/데이터들/전처리 전/external_open/countrywide_accident.zip')\n",
        "test_data=pd.read_csv(path + f'/데이터들/전처리 전/test.csv')"
      ]
    },
    {
      "cell_type": "markdown",
      "metadata": {
        "id": "pvSPi6jk7nX5"
      },
      "source": [
        "## 기초 통계 분석"
      ]
    },
    {
      "cell_type": "code",
      "execution_count": 5,
      "metadata": {
        "id": "Ki2l3dCcvAmR"
      },
      "outputs": [],
      "source": [
        "#ta_data_daegu.info()"
      ]
    },
    {
      "cell_type": "code",
      "execution_count": 6,
      "metadata": {
        "id": "1E97gtAMKA6m"
      },
      "outputs": [],
      "source": [
        "#x_test.info()"
      ]
    },
    {
      "cell_type": "code",
      "execution_count": 7,
      "metadata": {
        "id": "6rWIHjSA7sYV"
      },
      "outputs": [],
      "source": [
        "#ta_data_daegu.describe()"
      ]
    },
    {
      "cell_type": "code",
      "execution_count": 8,
      "metadata": {
        "id": "XbqTnvw-JdHs"
      },
      "outputs": [],
      "source": [
        "#ta_data_daegu.describe()"
      ]
    },
    {
      "cell_type": "code",
      "execution_count": 9,
      "metadata": {
        "id": "V3NWfDoqHzeL"
      },
      "outputs": [],
      "source": [
        "#columns = ['요일', '기상상태', '도로형태', '노면상태', '사고유형']\n",
        "\n",
        "#for column in columns:\n",
        "#    print(f\"Column: {column}\")\n",
        "#    print(ta_data_daegu[column].value_counts())\n",
        "#    print(\"-\" * 30)"
      ]
    },
    {
      "cell_type": "markdown",
      "metadata": {
        "id": "dvNl3tcK9zhG"
      },
      "source": [
        "## 전처리"
      ]
    },
    {
      "cell_type": "markdown",
      "metadata": {
        "id": "TIkV3fBpbI9Y"
      },
      "source": [
        "### 대구 데이터 전처리"
      ]
    },
    {
      "cell_type": "markdown",
      "metadata": {
        "id": "OcfCQJ-r91oV"
      },
      "source": [
        "#### 불필요한 컬럼 제거"
      ]
    },
    {
      "cell_type": "code",
      "execution_count": 10,
      "metadata": {
        "id": "ut9kTR5JKIBN"
      },
      "outputs": [],
      "source": [
        "columns_to_drop = ['ID', '사고유형 - 세부분류', '법규위반', '가해운전자 차종', '가해운전자 성별', '가해운전자 연령',\n",
        "                   '가해운전자 상해정도', '피해운전자 차종', '피해운전자 성별', '피해운전자 연령', '피해운전자 상해정도']\n",
        "\n",
        "\n",
        "daegu=daegu_data.drop(columns=columns_to_drop)"
      ]
    },
    {
      "cell_type": "markdown",
      "metadata": {
        "id": "7ebJ3pr4-GsX"
      },
      "source": [
        "#### 사고일시 컬럼 연도, 월, 일, 시간 단위로 분할"
      ]
    },
    {
      "cell_type": "code",
      "execution_count": 11,
      "metadata": {
        "id": "qyN8xpNTxh5S"
      },
      "outputs": [],
      "source": [
        "#daegu[['년도','월','일+시간']] = daegu['사고일시'].str.split('-',expand=True)\n",
        "#daegu[['일','시간']]= daegu['일+시간'].str.split(' ',expand=True)\n",
        "\n",
        "#daegu.drop(['일+시간','사고일시'],inplace=True, axis=1)\n",
        "#daegu.drop(['일'],inplace=True, axis=1)"
      ]
    },
    {
      "cell_type": "markdown",
      "metadata": {
        "id": "17KY4M65ZTYf"
      },
      "source": [
        "#### 시군구 단위로 분할"
      ]
    },
    {
      "cell_type": "code",
      "execution_count": 12,
      "metadata": {
        "id": "9bb7xKVrZS0O"
      },
      "outputs": [],
      "source": [
        "daegu[['시','구','동']] = daegu['시군구'].str.split(' ',expand=True)\n",
        "daegu.drop(['시군구'],inplace=True, axis=1)"
      ]
    },
    {
      "cell_type": "markdown",
      "metadata": {
        "id": "RkyxSnYCZlKK"
      },
      "source": [
        "#### 도로 형태 분할"
      ]
    },
    {
      "cell_type": "code",
      "execution_count": 13,
      "metadata": {
        "id": "0DRyb-LQZkkx"
      },
      "outputs": [],
      "source": [
        "daegu[['도로형태1', '도로형태2']] = daegu['도로형태'].str.split(' - ', expand=True)\n",
        "daegu.drop(['도로형태'],inplace=True, axis=1)"
      ]
    },
    {
      "cell_type": "code",
      "execution_count": 14,
      "metadata": {
        "colab": {
          "base_uri": "https://localhost:8080/",
          "height": 0
        },
        "id": "rUSwu_ooZsyB",
        "outputId": "9d830fa7-b148-4be2-ea93-17953bb34156"
      },
      "outputs": [
        {
          "data": {
            "text/html": [
              "<div>\n",
              "<style scoped>\n",
              "    .dataframe tbody tr th:only-of-type {\n",
              "        vertical-align: middle;\n",
              "    }\n",
              "\n",
              "    .dataframe tbody tr th {\n",
              "        vertical-align: top;\n",
              "    }\n",
              "\n",
              "    .dataframe thead th {\n",
              "        text-align: right;\n",
              "    }\n",
              "</style>\n",
              "<table border=\"1\" class=\"dataframe\">\n",
              "  <thead>\n",
              "    <tr style=\"text-align: right;\">\n",
              "      <th></th>\n",
              "      <th>사고일시</th>\n",
              "      <th>요일</th>\n",
              "      <th>기상상태</th>\n",
              "      <th>노면상태</th>\n",
              "      <th>사고유형</th>\n",
              "      <th>사망자수</th>\n",
              "      <th>중상자수</th>\n",
              "      <th>경상자수</th>\n",
              "      <th>부상자수</th>\n",
              "      <th>ECLO</th>\n",
              "      <th>시</th>\n",
              "      <th>구</th>\n",
              "      <th>동</th>\n",
              "      <th>도로형태1</th>\n",
              "      <th>도로형태2</th>\n",
              "    </tr>\n",
              "  </thead>\n",
              "  <tbody>\n",
              "    <tr>\n",
              "      <th>0</th>\n",
              "      <td>2019-01-01 00</td>\n",
              "      <td>화요일</td>\n",
              "      <td>맑음</td>\n",
              "      <td>건조</td>\n",
              "      <td>차대사람</td>\n",
              "      <td>0</td>\n",
              "      <td>1</td>\n",
              "      <td>0</td>\n",
              "      <td>0</td>\n",
              "      <td>5</td>\n",
              "      <td>대구광역시</td>\n",
              "      <td>중구</td>\n",
              "      <td>대신동</td>\n",
              "      <td>단일로</td>\n",
              "      <td>기타</td>\n",
              "    </tr>\n",
              "    <tr>\n",
              "      <th>1</th>\n",
              "      <td>2019-01-01 00</td>\n",
              "      <td>화요일</td>\n",
              "      <td>흐림</td>\n",
              "      <td>건조</td>\n",
              "      <td>차대사람</td>\n",
              "      <td>0</td>\n",
              "      <td>0</td>\n",
              "      <td>1</td>\n",
              "      <td>0</td>\n",
              "      <td>3</td>\n",
              "      <td>대구광역시</td>\n",
              "      <td>달서구</td>\n",
              "      <td>감삼동</td>\n",
              "      <td>단일로</td>\n",
              "      <td>기타</td>\n",
              "    </tr>\n",
              "    <tr>\n",
              "      <th>2</th>\n",
              "      <td>2019-01-01 01</td>\n",
              "      <td>화요일</td>\n",
              "      <td>맑음</td>\n",
              "      <td>건조</td>\n",
              "      <td>차대사람</td>\n",
              "      <td>0</td>\n",
              "      <td>0</td>\n",
              "      <td>1</td>\n",
              "      <td>0</td>\n",
              "      <td>3</td>\n",
              "      <td>대구광역시</td>\n",
              "      <td>수성구</td>\n",
              "      <td>두산동</td>\n",
              "      <td>단일로</td>\n",
              "      <td>기타</td>\n",
              "    </tr>\n",
              "    <tr>\n",
              "      <th>3</th>\n",
              "      <td>2019-01-01 02</td>\n",
              "      <td>화요일</td>\n",
              "      <td>맑음</td>\n",
              "      <td>건조</td>\n",
              "      <td>차대차</td>\n",
              "      <td>0</td>\n",
              "      <td>1</td>\n",
              "      <td>0</td>\n",
              "      <td>0</td>\n",
              "      <td>5</td>\n",
              "      <td>대구광역시</td>\n",
              "      <td>북구</td>\n",
              "      <td>복현동</td>\n",
              "      <td>단일로</td>\n",
              "      <td>기타</td>\n",
              "    </tr>\n",
              "    <tr>\n",
              "      <th>4</th>\n",
              "      <td>2019-01-01 04</td>\n",
              "      <td>화요일</td>\n",
              "      <td>맑음</td>\n",
              "      <td>건조</td>\n",
              "      <td>차대차</td>\n",
              "      <td>0</td>\n",
              "      <td>0</td>\n",
              "      <td>1</td>\n",
              "      <td>0</td>\n",
              "      <td>3</td>\n",
              "      <td>대구광역시</td>\n",
              "      <td>동구</td>\n",
              "      <td>신암동</td>\n",
              "      <td>단일로</td>\n",
              "      <td>기타</td>\n",
              "    </tr>\n",
              "  </tbody>\n",
              "</table>\n",
              "</div>"
            ],
            "text/plain": [
              "            사고일시   요일 기상상태 노면상태  사고유형  사망자수  중상자수  경상자수  부상자수  ECLO      시  \\\n",
              "0  2019-01-01 00  화요일   맑음   건조  차대사람     0     1     0     0     5  대구광역시   \n",
              "1  2019-01-01 00  화요일   흐림   건조  차대사람     0     0     1     0     3  대구광역시   \n",
              "2  2019-01-01 01  화요일   맑음   건조  차대사람     0     0     1     0     3  대구광역시   \n",
              "3  2019-01-01 02  화요일   맑음   건조   차대차     0     1     0     0     5  대구광역시   \n",
              "4  2019-01-01 04  화요일   맑음   건조   차대차     0     0     1     0     3  대구광역시   \n",
              "\n",
              "     구    동 도로형태1 도로형태2  \n",
              "0   중구  대신동   단일로    기타  \n",
              "1  달서구  감삼동   단일로    기타  \n",
              "2  수성구  두산동   단일로    기타  \n",
              "3   북구  복현동   단일로    기타  \n",
              "4   동구  신암동   단일로    기타  "
            ]
          },
          "execution_count": 14,
          "metadata": {},
          "output_type": "execute_result"
        }
      ],
      "source": [
        "daegu.head()"
      ]
    },
    {
      "cell_type": "markdown",
      "metadata": {
        "id": "3X4qmuPh-M0z"
      },
      "source": [
        "#### 요일 컬럼 평일과 주말로 분류"
      ]
    },
    {
      "cell_type": "code",
      "execution_count": 15,
      "metadata": {
        "id": "3JYDt1MP80pt"
      },
      "outputs": [],
      "source": [
        "#ta_data_daegu['요일 분류'] = ta_data_daegu['요일'].apply(lambda x: '평일' if x in ['월요일', '화요일', '수요일', '목요일', '금요일'] else '주말')"
      ]
    },
    {
      "cell_type": "code",
      "execution_count": 16,
      "metadata": {
        "id": "CURfLGyR7pW2"
      },
      "outputs": [],
      "source": [
        "#ta_data_daegu"
      ]
    },
    {
      "cell_type": "markdown",
      "metadata": {
        "id": "nz4iO10qa7Cm"
      },
      "source": [
        "### 전국 데이터 전처리"
      ]
    },
    {
      "cell_type": "code",
      "execution_count": 17,
      "metadata": {
        "colab": {
          "base_uri": "https://localhost:8080/"
        },
        "id": "oeeGQZ0Ga6VX",
        "outputId": "dd2f1890-1b77-427c-dd63-dbb4644dc11f"
      },
      "outputs": [
        {
          "data": {
            "text/plain": [
              "602775"
            ]
          },
          "execution_count": 17,
          "metadata": {},
          "output_type": "execute_result"
        }
      ],
      "source": [
        "wide=wide_data.copy()\n",
        "len(wide)"
      ]
    },
    {
      "cell_type": "markdown",
      "metadata": {
        "id": "-ILRmM3fbEt3"
      },
      "source": [
        "#### 철길 건널목 제거"
      ]
    },
    {
      "cell_type": "code",
      "execution_count": 18,
      "metadata": {
        "id": "Km3wux5zbCEU"
      },
      "outputs": [],
      "source": [
        "wide = wide[~wide['도로형태'].str.split().str[-1].str.contains('철길건널목')]"
      ]
    },
    {
      "cell_type": "markdown",
      "metadata": {
        "id": "4EI_5YRCbN9r"
      },
      "source": [
        "#### 불필요한 컬럼 제거"
      ]
    },
    {
      "cell_type": "code",
      "execution_count": 19,
      "metadata": {
        "id": "e7bEdTB7bONF"
      },
      "outputs": [],
      "source": [
        "wide=wide.drop(columns=columns_to_drop)"
      ]
    },
    {
      "cell_type": "markdown",
      "metadata": {
        "id": "T63YNdAdbTJQ"
      },
      "source": [
        "#### 광역시, 특별시만 분류"
      ]
    },
    {
      "cell_type": "code",
      "execution_count": 20,
      "metadata": {
        "id": "0CT0MHnibSnR"
      },
      "outputs": [],
      "source": [
        "def contains_specific_location(address):\n",
        "    cities = ['서울특별시', '인천광역시', '부산광역시', '울산광역시', '광주광역시', '대전광역시']\n",
        "    for city in cities:\n",
        "        if city in address:\n",
        "            return True\n",
        "    return False\n",
        "wide=wide[wide['시군구'].apply(contains_specific_location)]\n",
        "\n",
        "wide[['시','구','동']] = wide['시군구'].str.split(' ',expand=True)"
      ]
    },
    {
      "cell_type": "code",
      "execution_count": 21,
      "metadata": {
        "colab": {
          "base_uri": "https://localhost:8080/"
        },
        "id": "rhBMUyS6bcoH",
        "outputId": "72145b47-fc64-4cfd-92a5-163dd75aee84"
      },
      "outputs": [
        {
          "data": {
            "text/plain": [
              "시군구\n",
              "서울특별시    108395\n",
              "부산광역시     36244\n",
              "인천광역시     25115\n",
              "광주광역시     23430\n",
              "대전광역시     22579\n",
              "울산광역시     11981\n",
              "Name: count, dtype: int64"
            ]
          },
          "execution_count": 21,
          "metadata": {},
          "output_type": "execute_result"
        }
      ],
      "source": [
        "wide['시군구'].apply(lambda x:x.split()[0]).value_counts()"
      ]
    },
    {
      "cell_type": "code",
      "execution_count": 22,
      "metadata": {
        "id": "vgodFJrHcqh3"
      },
      "outputs": [],
      "source": [
        "wide.drop(['시군구'],inplace=True, axis=1)"
      ]
    },
    {
      "cell_type": "markdown",
      "metadata": {
        "id": "JO-rWjzDbhKK"
      },
      "source": [
        "#### 연도, 월, 일, 시간 분류"
      ]
    },
    {
      "cell_type": "code",
      "execution_count": 23,
      "metadata": {
        "id": "IgmeohwzbhQf"
      },
      "outputs": [],
      "source": [
        "#wide[['년도','월','일+시간']] = wide['사고일시'].str.split('-',expand=True)\n",
        "#wide[['일','시간']]= wide['일+시간'].str.split(' ',expand=True)\n",
        "\n",
        "#wide.drop(['일+시간','사고일시'],inplace=True, axis=1)\n",
        "#wide.drop(['일'],inplace=True, axis=1)"
      ]
    },
    {
      "cell_type": "markdown",
      "metadata": {
        "id": "72pqhXqvbth2"
      },
      "source": [
        "#### 도로 형태 분류"
      ]
    },
    {
      "cell_type": "code",
      "execution_count": 24,
      "metadata": {
        "id": "ERkG4dIXbtqr"
      },
      "outputs": [],
      "source": [
        "wide[['도로형태1', '도로형태2']] = wide['도로형태'].str.split(' - ', expand=True)\n",
        "\n",
        "wide.drop(['도로형태'],inplace=True, axis=1)"
      ]
    },
    {
      "cell_type": "code",
      "execution_count": 25,
      "metadata": {
        "colab": {
          "base_uri": "https://localhost:8080/",
          "height": 0
        },
        "id": "cYEXzIi-b4Qt",
        "outputId": "405f2946-25ba-44f1-eb24-cc57df27375a"
      },
      "outputs": [
        {
          "data": {
            "text/html": [
              "<div>\n",
              "<style scoped>\n",
              "    .dataframe tbody tr th:only-of-type {\n",
              "        vertical-align: middle;\n",
              "    }\n",
              "\n",
              "    .dataframe tbody tr th {\n",
              "        vertical-align: top;\n",
              "    }\n",
              "\n",
              "    .dataframe thead th {\n",
              "        text-align: right;\n",
              "    }\n",
              "</style>\n",
              "<table border=\"1\" class=\"dataframe\">\n",
              "  <thead>\n",
              "    <tr style=\"text-align: right;\">\n",
              "      <th></th>\n",
              "      <th>사고일시</th>\n",
              "      <th>요일</th>\n",
              "      <th>기상상태</th>\n",
              "      <th>노면상태</th>\n",
              "      <th>사고유형</th>\n",
              "      <th>사망자수</th>\n",
              "      <th>중상자수</th>\n",
              "      <th>경상자수</th>\n",
              "      <th>부상자수</th>\n",
              "      <th>ECLO</th>\n",
              "      <th>시</th>\n",
              "      <th>구</th>\n",
              "      <th>동</th>\n",
              "      <th>도로형태1</th>\n",
              "      <th>도로형태2</th>\n",
              "    </tr>\n",
              "  </thead>\n",
              "  <tbody>\n",
              "    <tr>\n",
              "      <th>0</th>\n",
              "      <td>2019-01-01 00</td>\n",
              "      <td>화요일</td>\n",
              "      <td>맑음</td>\n",
              "      <td>건조</td>\n",
              "      <td>차대사람</td>\n",
              "      <td>0</td>\n",
              "      <td>0</td>\n",
              "      <td>1</td>\n",
              "      <td>0</td>\n",
              "      <td>3</td>\n",
              "      <td>서울특별시</td>\n",
              "      <td>강서구</td>\n",
              "      <td>방화동</td>\n",
              "      <td>교차로</td>\n",
              "      <td>교차로횡단보도내</td>\n",
              "    </tr>\n",
              "    <tr>\n",
              "      <th>4</th>\n",
              "      <td>2019-01-01 00</td>\n",
              "      <td>화요일</td>\n",
              "      <td>맑음</td>\n",
              "      <td>건조</td>\n",
              "      <td>차대차</td>\n",
              "      <td>0</td>\n",
              "      <td>0</td>\n",
              "      <td>2</td>\n",
              "      <td>1</td>\n",
              "      <td>7</td>\n",
              "      <td>인천광역시</td>\n",
              "      <td>부평구</td>\n",
              "      <td>부평동</td>\n",
              "      <td>교차로</td>\n",
              "      <td>교차로안</td>\n",
              "    </tr>\n",
              "    <tr>\n",
              "      <th>5</th>\n",
              "      <td>2019-01-01 00</td>\n",
              "      <td>화요일</td>\n",
              "      <td>맑음</td>\n",
              "      <td>건조</td>\n",
              "      <td>차대사람</td>\n",
              "      <td>0</td>\n",
              "      <td>0</td>\n",
              "      <td>1</td>\n",
              "      <td>0</td>\n",
              "      <td>3</td>\n",
              "      <td>인천광역시</td>\n",
              "      <td>부평구</td>\n",
              "      <td>부평동</td>\n",
              "      <td>교차로</td>\n",
              "      <td>교차로부근</td>\n",
              "    </tr>\n",
              "    <tr>\n",
              "      <th>8</th>\n",
              "      <td>2019-01-01 00</td>\n",
              "      <td>화요일</td>\n",
              "      <td>맑음</td>\n",
              "      <td>건조</td>\n",
              "      <td>차대차</td>\n",
              "      <td>0</td>\n",
              "      <td>0</td>\n",
              "      <td>1</td>\n",
              "      <td>0</td>\n",
              "      <td>3</td>\n",
              "      <td>광주광역시</td>\n",
              "      <td>광산구</td>\n",
              "      <td>수완동</td>\n",
              "      <td>단일로</td>\n",
              "      <td>기타</td>\n",
              "    </tr>\n",
              "    <tr>\n",
              "      <th>11</th>\n",
              "      <td>2019-01-01 00</td>\n",
              "      <td>화요일</td>\n",
              "      <td>맑음</td>\n",
              "      <td>건조</td>\n",
              "      <td>차대사람</td>\n",
              "      <td>1</td>\n",
              "      <td>0</td>\n",
              "      <td>0</td>\n",
              "      <td>0</td>\n",
              "      <td>10</td>\n",
              "      <td>부산광역시</td>\n",
              "      <td>해운대구</td>\n",
              "      <td>우동</td>\n",
              "      <td>교차로</td>\n",
              "      <td>교차로안</td>\n",
              "    </tr>\n",
              "  </tbody>\n",
              "</table>\n",
              "</div>"
            ],
            "text/plain": [
              "             사고일시   요일 기상상태 노면상태  사고유형  사망자수  중상자수  경상자수  부상자수  ECLO      시  \\\n",
              "0   2019-01-01 00  화요일   맑음   건조  차대사람     0     0     1     0     3  서울특별시   \n",
              "4   2019-01-01 00  화요일   맑음   건조   차대차     0     0     2     1     7  인천광역시   \n",
              "5   2019-01-01 00  화요일   맑음   건조  차대사람     0     0     1     0     3  인천광역시   \n",
              "8   2019-01-01 00  화요일   맑음   건조   차대차     0     0     1     0     3  광주광역시   \n",
              "11  2019-01-01 00  화요일   맑음   건조  차대사람     1     0     0     0    10  부산광역시   \n",
              "\n",
              "       구    동 도로형태1     도로형태2  \n",
              "0    강서구  방화동   교차로  교차로횡단보도내  \n",
              "4    부평구  부평동   교차로      교차로안  \n",
              "5    부평구  부평동   교차로     교차로부근  \n",
              "8    광산구  수완동   단일로        기타  \n",
              "11  해운대구   우동   교차로      교차로안  "
            ]
          },
          "execution_count": 25,
          "metadata": {},
          "output_type": "execute_result"
        }
      ],
      "source": [
        "wide.head()"
      ]
    },
    {
      "cell_type": "markdown",
      "metadata": {
        "id": "CLi99pHob-mh"
      },
      "source": [
        "### 데이터 병합 후 전처리 진행"
      ]
    },
    {
      "cell_type": "code",
      "execution_count": 26,
      "metadata": {
        "colab": {
          "base_uri": "https://localhost:8080/"
        },
        "id": "X1Jeisk5Xy_s",
        "outputId": "786fea82-2c0c-47c4-ad15-f96699e2cf60"
      },
      "outputs": [
        {
          "name": "stdout",
          "output_type": "stream",
          "text": [
            "39609 227744 267353\n"
          ]
        }
      ],
      "source": [
        "print(len(daegu),len(wide), len(daegu)+len(wide))"
      ]
    },
    {
      "cell_type": "code",
      "execution_count": 27,
      "metadata": {
        "colab": {
          "base_uri": "https://localhost:8080/",
          "height": 0
        },
        "id": "sVI-bSTvb8xR",
        "outputId": "8deaa88c-e492-4de3-bc84-2a08e79d8745"
      },
      "outputs": [
        {
          "data": {
            "text/html": [
              "<div>\n",
              "<style scoped>\n",
              "    .dataframe tbody tr th:only-of-type {\n",
              "        vertical-align: middle;\n",
              "    }\n",
              "\n",
              "    .dataframe tbody tr th {\n",
              "        vertical-align: top;\n",
              "    }\n",
              "\n",
              "    .dataframe thead th {\n",
              "        text-align: right;\n",
              "    }\n",
              "</style>\n",
              "<table border=\"1\" class=\"dataframe\">\n",
              "  <thead>\n",
              "    <tr style=\"text-align: right;\">\n",
              "      <th></th>\n",
              "      <th>사고일시</th>\n",
              "      <th>요일</th>\n",
              "      <th>기상상태</th>\n",
              "      <th>노면상태</th>\n",
              "      <th>사고유형</th>\n",
              "      <th>사망자수</th>\n",
              "      <th>중상자수</th>\n",
              "      <th>경상자수</th>\n",
              "      <th>부상자수</th>\n",
              "      <th>ECLO</th>\n",
              "      <th>시</th>\n",
              "      <th>구</th>\n",
              "      <th>동</th>\n",
              "      <th>도로형태1</th>\n",
              "      <th>도로형태2</th>\n",
              "    </tr>\n",
              "  </thead>\n",
              "  <tbody>\n",
              "    <tr>\n",
              "      <th>0</th>\n",
              "      <td>2019-01-01 00</td>\n",
              "      <td>화요일</td>\n",
              "      <td>맑음</td>\n",
              "      <td>건조</td>\n",
              "      <td>차대사람</td>\n",
              "      <td>0</td>\n",
              "      <td>1</td>\n",
              "      <td>0</td>\n",
              "      <td>0</td>\n",
              "      <td>5</td>\n",
              "      <td>대구광역시</td>\n",
              "      <td>중구</td>\n",
              "      <td>대신동</td>\n",
              "      <td>단일로</td>\n",
              "      <td>기타</td>\n",
              "    </tr>\n",
              "    <tr>\n",
              "      <th>1</th>\n",
              "      <td>2019-01-01 00</td>\n",
              "      <td>화요일</td>\n",
              "      <td>흐림</td>\n",
              "      <td>건조</td>\n",
              "      <td>차대사람</td>\n",
              "      <td>0</td>\n",
              "      <td>0</td>\n",
              "      <td>1</td>\n",
              "      <td>0</td>\n",
              "      <td>3</td>\n",
              "      <td>대구광역시</td>\n",
              "      <td>달서구</td>\n",
              "      <td>감삼동</td>\n",
              "      <td>단일로</td>\n",
              "      <td>기타</td>\n",
              "    </tr>\n",
              "    <tr>\n",
              "      <th>2</th>\n",
              "      <td>2019-01-01 01</td>\n",
              "      <td>화요일</td>\n",
              "      <td>맑음</td>\n",
              "      <td>건조</td>\n",
              "      <td>차대사람</td>\n",
              "      <td>0</td>\n",
              "      <td>0</td>\n",
              "      <td>1</td>\n",
              "      <td>0</td>\n",
              "      <td>3</td>\n",
              "      <td>대구광역시</td>\n",
              "      <td>수성구</td>\n",
              "      <td>두산동</td>\n",
              "      <td>단일로</td>\n",
              "      <td>기타</td>\n",
              "    </tr>\n",
              "    <tr>\n",
              "      <th>3</th>\n",
              "      <td>2019-01-01 02</td>\n",
              "      <td>화요일</td>\n",
              "      <td>맑음</td>\n",
              "      <td>건조</td>\n",
              "      <td>차대차</td>\n",
              "      <td>0</td>\n",
              "      <td>1</td>\n",
              "      <td>0</td>\n",
              "      <td>0</td>\n",
              "      <td>5</td>\n",
              "      <td>대구광역시</td>\n",
              "      <td>북구</td>\n",
              "      <td>복현동</td>\n",
              "      <td>단일로</td>\n",
              "      <td>기타</td>\n",
              "    </tr>\n",
              "    <tr>\n",
              "      <th>4</th>\n",
              "      <td>2019-01-01 04</td>\n",
              "      <td>화요일</td>\n",
              "      <td>맑음</td>\n",
              "      <td>건조</td>\n",
              "      <td>차대차</td>\n",
              "      <td>0</td>\n",
              "      <td>0</td>\n",
              "      <td>1</td>\n",
              "      <td>0</td>\n",
              "      <td>3</td>\n",
              "      <td>대구광역시</td>\n",
              "      <td>동구</td>\n",
              "      <td>신암동</td>\n",
              "      <td>단일로</td>\n",
              "      <td>기타</td>\n",
              "    </tr>\n",
              "    <tr>\n",
              "      <th>...</th>\n",
              "      <td>...</td>\n",
              "      <td>...</td>\n",
              "      <td>...</td>\n",
              "      <td>...</td>\n",
              "      <td>...</td>\n",
              "      <td>...</td>\n",
              "      <td>...</td>\n",
              "      <td>...</td>\n",
              "      <td>...</td>\n",
              "      <td>...</td>\n",
              "      <td>...</td>\n",
              "      <td>...</td>\n",
              "      <td>...</td>\n",
              "      <td>...</td>\n",
              "      <td>...</td>\n",
              "    </tr>\n",
              "    <tr>\n",
              "      <th>602766</th>\n",
              "      <td>2021-12-31 23</td>\n",
              "      <td>금요일</td>\n",
              "      <td>맑음</td>\n",
              "      <td>건조</td>\n",
              "      <td>차대사람</td>\n",
              "      <td>0</td>\n",
              "      <td>0</td>\n",
              "      <td>1</td>\n",
              "      <td>0</td>\n",
              "      <td>3</td>\n",
              "      <td>서울특별시</td>\n",
              "      <td>서초구</td>\n",
              "      <td>반포동</td>\n",
              "      <td>단일로</td>\n",
              "      <td>기타</td>\n",
              "    </tr>\n",
              "    <tr>\n",
              "      <th>602769</th>\n",
              "      <td>2021-12-31 23</td>\n",
              "      <td>금요일</td>\n",
              "      <td>맑음</td>\n",
              "      <td>건조</td>\n",
              "      <td>차대차</td>\n",
              "      <td>0</td>\n",
              "      <td>1</td>\n",
              "      <td>0</td>\n",
              "      <td>0</td>\n",
              "      <td>5</td>\n",
              "      <td>부산광역시</td>\n",
              "      <td>연제구</td>\n",
              "      <td>연산동</td>\n",
              "      <td>단일로</td>\n",
              "      <td>기타</td>\n",
              "    </tr>\n",
              "    <tr>\n",
              "      <th>602770</th>\n",
              "      <td>2021-12-31 23</td>\n",
              "      <td>금요일</td>\n",
              "      <td>흐림</td>\n",
              "      <td>건조</td>\n",
              "      <td>차대차</td>\n",
              "      <td>0</td>\n",
              "      <td>1</td>\n",
              "      <td>1</td>\n",
              "      <td>0</td>\n",
              "      <td>8</td>\n",
              "      <td>부산광역시</td>\n",
              "      <td>해운대구</td>\n",
              "      <td>우동</td>\n",
              "      <td>교차로</td>\n",
              "      <td>교차로안</td>\n",
              "    </tr>\n",
              "    <tr>\n",
              "      <th>602771</th>\n",
              "      <td>2021-12-31 23</td>\n",
              "      <td>금요일</td>\n",
              "      <td>맑음</td>\n",
              "      <td>건조</td>\n",
              "      <td>차대차</td>\n",
              "      <td>0</td>\n",
              "      <td>0</td>\n",
              "      <td>2</td>\n",
              "      <td>0</td>\n",
              "      <td>6</td>\n",
              "      <td>서울특별시</td>\n",
              "      <td>성동구</td>\n",
              "      <td>행당동</td>\n",
              "      <td>단일로</td>\n",
              "      <td>기타</td>\n",
              "    </tr>\n",
              "    <tr>\n",
              "      <th>602772</th>\n",
              "      <td>2021-12-31 23</td>\n",
              "      <td>금요일</td>\n",
              "      <td>맑음</td>\n",
              "      <td>건조</td>\n",
              "      <td>차대차</td>\n",
              "      <td>0</td>\n",
              "      <td>0</td>\n",
              "      <td>3</td>\n",
              "      <td>0</td>\n",
              "      <td>9</td>\n",
              "      <td>대전광역시</td>\n",
              "      <td>유성구</td>\n",
              "      <td>원신흥동</td>\n",
              "      <td>교차로</td>\n",
              "      <td>교차로안</td>\n",
              "    </tr>\n",
              "  </tbody>\n",
              "</table>\n",
              "<p>267353 rows × 15 columns</p>\n",
              "</div>"
            ],
            "text/plain": [
              "                 사고일시   요일 기상상태 노면상태  사고유형  사망자수  중상자수  경상자수  부상자수  ECLO  \\\n",
              "0       2019-01-01 00  화요일   맑음   건조  차대사람     0     1     0     0     5   \n",
              "1       2019-01-01 00  화요일   흐림   건조  차대사람     0     0     1     0     3   \n",
              "2       2019-01-01 01  화요일   맑음   건조  차대사람     0     0     1     0     3   \n",
              "3       2019-01-01 02  화요일   맑음   건조   차대차     0     1     0     0     5   \n",
              "4       2019-01-01 04  화요일   맑음   건조   차대차     0     0     1     0     3   \n",
              "...               ...  ...  ...  ...   ...   ...   ...   ...   ...   ...   \n",
              "602766  2021-12-31 23  금요일   맑음   건조  차대사람     0     0     1     0     3   \n",
              "602769  2021-12-31 23  금요일   맑음   건조   차대차     0     1     0     0     5   \n",
              "602770  2021-12-31 23  금요일   흐림   건조   차대차     0     1     1     0     8   \n",
              "602771  2021-12-31 23  금요일   맑음   건조   차대차     0     0     2     0     6   \n",
              "602772  2021-12-31 23  금요일   맑음   건조   차대차     0     0     3     0     9   \n",
              "\n",
              "            시     구     동 도로형태1 도로형태2  \n",
              "0       대구광역시    중구   대신동   단일로    기타  \n",
              "1       대구광역시   달서구   감삼동   단일로    기타  \n",
              "2       대구광역시   수성구   두산동   단일로    기타  \n",
              "3       대구광역시    북구   복현동   단일로    기타  \n",
              "4       대구광역시    동구   신암동   단일로    기타  \n",
              "...       ...   ...   ...   ...   ...  \n",
              "602766  서울특별시   서초구   반포동   단일로    기타  \n",
              "602769  부산광역시   연제구   연산동   단일로    기타  \n",
              "602770  부산광역시  해운대구    우동   교차로  교차로안  \n",
              "602771  서울특별시   성동구   행당동   단일로    기타  \n",
              "602772  대전광역시   유성구  원신흥동   교차로  교차로안  \n",
              "\n",
              "[267353 rows x 15 columns]"
            ]
          },
          "execution_count": 27,
          "metadata": {},
          "output_type": "execute_result"
        }
      ],
      "source": [
        "concatenated_df = pd.concat([daegu, wide])\n",
        "concatenated_df"
      ]
    },
    {
      "cell_type": "markdown",
      "metadata": {
        "id": "PCAiPVhbVN7A"
      },
      "source": [
        "#### 휴일 여부"
      ]
    },
    {
      "cell_type": "code",
      "execution_count": 28,
      "metadata": {
        "colab": {
          "base_uri": "https://localhost:8080/"
        },
        "id": "WfFvwh9SVNDQ",
        "outputId": "019cd504-470d-466c-bdb5-98960bcf1fb8"
      },
      "outputs": [
        {
          "name": "stdout",
          "output_type": "stream",
          "text": [
            "[datetime.date(2019, 2, 4), datetime.date(2019, 2, 5), datetime.date(2019, 2, 6), datetime.date(2019, 9, 12), datetime.date(2019, 9, 13), datetime.date(2019, 9, 14), datetime.date(2019, 1, 1), datetime.date(2019, 3, 1), datetime.date(2019, 5, 5), datetime.date(2019, 5, 12), datetime.date(2019, 6, 6), datetime.date(2019, 8, 15), datetime.date(2019, 10, 9), datetime.date(2019, 10, 3), datetime.date(2019, 12, 25)]\n",
            "[datetime.date(2020, 1, 24), datetime.date(2020, 1, 25), datetime.date(2020, 1, 26), datetime.date(2020, 9, 30), datetime.date(2020, 10, 1), datetime.date(2020, 10, 2), datetime.date(2020, 1, 1), datetime.date(2020, 3, 1), datetime.date(2020, 5, 5), datetime.date(2020, 4, 30), datetime.date(2020, 6, 6), datetime.date(2020, 8, 15), datetime.date(2020, 10, 9), datetime.date(2020, 10, 3), datetime.date(2020, 12, 25)]\n",
            "[datetime.date(2021, 2, 11), datetime.date(2021, 2, 12), datetime.date(2021, 2, 13), datetime.date(2021, 9, 20), datetime.date(2021, 9, 21), datetime.date(2021, 9, 22), datetime.date(2021, 1, 1), datetime.date(2021, 3, 1), datetime.date(2021, 5, 5), datetime.date(2021, 5, 19), datetime.date(2021, 6, 6), datetime.date(2021, 8, 15), datetime.date(2021, 10, 9), datetime.date(2021, 10, 3), datetime.date(2021, 12, 25)]\n",
            "[datetime.date(2022, 1, 31), datetime.date(2022, 2, 1), datetime.date(2022, 2, 2), datetime.date(2022, 9, 9), datetime.date(2022, 9, 10), datetime.date(2022, 9, 11), datetime.date(2022, 1, 1), datetime.date(2022, 3, 1), datetime.date(2022, 5, 5), datetime.date(2022, 5, 8), datetime.date(2022, 6, 6), datetime.date(2022, 8, 15), datetime.date(2022, 10, 9), datetime.date(2022, 10, 3), datetime.date(2022, 12, 25)]\n",
            "[datetime.date(2023, 1, 21), datetime.date(2023, 1, 22), datetime.date(2023, 1, 23), datetime.date(2023, 9, 28), datetime.date(2023, 9, 29), datetime.date(2023, 9, 30), datetime.date(2023, 1, 1), datetime.date(2023, 3, 1), datetime.date(2023, 5, 5), datetime.date(2023, 5, 26), datetime.date(2023, 6, 6), datetime.date(2023, 8, 15), datetime.date(2023, 10, 9), datetime.date(2023, 10, 3), datetime.date(2023, 12, 25)]\n"
          ]
        }
      ],
      "source": [
        "for i in range(2019, 2024):\n",
        "    kr_holidays = pytimekr.holidays(i)\n",
        "    print(kr_holidays)"
      ]
    },
    {
      "cell_type": "code",
      "execution_count": 29,
      "metadata": {
        "id": "uEghBkBzZCNW"
      },
      "outputs": [],
      "source": [
        "kr_holidays = ['2019-01-01', '2019-02-04', '2019-02-05', '2019-02-06', '2019-03-01', '2019-05-05', '2019-05-12', '2019-06-06', '2019-08-15', '2019-09-12', '2019-09-13', '2019-09-14', '2019-10-03', '2019-10-09', '2019-12-25',\n",
        "                '2020-01-01' ,'2020-01-24' ,'2020-01-25', '2020-01-26', '2020-03-01', '2020-04-30', '2020-05-05', '2020-06-06', '2020-08-15', '2020-08-17', '2020-09-30', '2020-10-01', '2020-10-02', '2020-10-03', '2020-10-09', '2020-12-25',\n",
        "                '2021-01-01' ,'2021-02-11' ,'2021-02-12', '2021-02-13', '2021-03-01', '2021-05-05', '2021-05-19', '2021-06-06', '2021-08-15', '2021-09-20', '2021-09-21', '2021-09-22', '2021-10-03', '2021-10-09', '2021-12-25',\n",
        "                '2022-01-01' ,'2022-01-31' ,'2022-02-01', '2022-02-02', '2022-03-01', '2022-05-05', '2022-05-08', '2022-06-06', '2022-08-15', '2022-09-09', '2022-09-10', '2022-09-11', '2022-09-12', '2022-10-03', '2022-10-09', '2020-10-10', '2022-12-25',\n",
        "                '2023-01-01' ,'2023-01-21' ,'2023-01-22', '2023-01-23', '2023-01-24', '2023-03-01', '2023-05-05', '2023-05-26', '2023-06-06', '2023-08-15', '2023-09-28', '2023-09-29', '2023-09-30', '2023-10-03', '2023-10-09', '2023-12-25']\n"
      ]
    },
    {
      "cell_type": "code",
      "execution_count": 30,
      "metadata": {
        "id": "7zKDlmwnVd5G"
      },
      "outputs": [],
      "source": [
        "concatenated_df['사고일시'] = pd.to_datetime(concatenated_df['사고일시'])\n",
        "\n",
        "# datetime에서 year, month, day, hour 추출하여 새로운 열 생성\n",
        "concatenated_df['년도'] = concatenated_df['사고일시'].dt.year\n",
        "concatenated_df['월'] = concatenated_df['사고일시'].dt.month\n",
        "concatenated_df['day'] = concatenated_df['사고일시'].dt.day\n",
        "concatenated_df['시간'] = concatenated_df['사고일시'].dt.hour\n",
        "concatenated_df['day_of_week'] = concatenated_df['사고일시'].dt.dayofweek"
      ]
    },
    {
      "cell_type": "code",
      "execution_count": 31,
      "metadata": {
        "id": "8uVv_Sc-VjyA"
      },
      "outputs": [],
      "source": [
        "concatenated_df['holiday'] = np.where((concatenated_df.day_of_week >= 5) | (concatenated_df.사고일시.dt.strftime('%Y-%m-%d').isin(kr_holidays)), '휴일', '평일')"
      ]
    },
    {
      "cell_type": "code",
      "execution_count": 32,
      "metadata": {
        "id": "mRl4OFf0Vs37"
      },
      "outputs": [],
      "source": [
        "concatenated_df.drop(columns=['사고일시'], inplace=True)"
      ]
    },
    {
      "cell_type": "code",
      "execution_count": 33,
      "metadata": {
        "colab": {
          "base_uri": "https://localhost:8080/"
        },
        "id": "siWOXp7zWKWI",
        "outputId": "9b168657-1465-42f6-e2ec-4d3cc1e5b8a0"
      },
      "outputs": [
        {
          "data": {
            "text/plain": [
              "holiday\n",
              "평일    195393\n",
              "휴일     71960\n",
              "Name: count, dtype: int64"
            ]
          },
          "execution_count": 33,
          "metadata": {},
          "output_type": "execute_result"
        }
      ],
      "source": [
        "concatenated_df['holiday'].value_counts()"
      ]
    },
    {
      "cell_type": "code",
      "execution_count": 34,
      "metadata": {
        "id": "M4QJYEjuYIiN"
      },
      "outputs": [],
      "source": [
        "concatenated_df.drop(['day', 'day_of_week'], inplace=True, axis=1)"
      ]
    },
    {
      "cell_type": "markdown",
      "metadata": {
        "id": "dCOFTCQacAsO"
      },
      "source": [
        "#### 주말 여부"
      ]
    },
    {
      "cell_type": "code",
      "execution_count": 35,
      "metadata": {
        "id": "Fry9UFPkcAzE"
      },
      "outputs": [],
      "source": [
        "#concatenated_df['주말여부']=concatenated_df['요일'].apply(lambda x:'주말' if x in ['토요일','일요일'] else '평일')\n",
        "\n",
        "#concatenated_df['주말여부'].value_counts()"
      ]
    },
    {
      "cell_type": "markdown",
      "metadata": {
        "id": "kXdbSzY6cUKQ"
      },
      "source": [
        "#### 시간 분류"
      ]
    },
    {
      "cell_type": "code",
      "execution_count": 36,
      "metadata": {
        "colab": {
          "base_uri": "https://localhost:8080/"
        },
        "id": "pjiIx41ccTo_",
        "outputId": "b5b285e3-8fc4-480b-8620-70e238529256"
      },
      "outputs": [
        {
          "name": "stdout",
          "output_type": "stream",
          "text": [
            "267353\n"
          ]
        },
        {
          "data": {
            "text/plain": [
              "시간구분\n",
              "저녁    71768\n",
              "오후    58743\n",
              "오전    50058\n",
              "야간    47737\n",
              "새벽    20554\n",
              "심야    18493\n",
              "Name: count, dtype: int64"
            ]
          },
          "execution_count": 36,
          "metadata": {},
          "output_type": "execute_result"
        }
      ],
      "source": [
        "def seperate_time(time): #심야, 새벽, 오전, 오후, 저녁, 야간 ->4시간단위\n",
        "    if 0<=int(time)<4:\n",
        "        return '심야'\n",
        "    elif int(time)<8:\n",
        "        return '새벽'\n",
        "    elif int(time)<12:\n",
        "        return '오전'\n",
        "    elif int(time)<16:\n",
        "        return '오후'\n",
        "    elif int(time)<20:\n",
        "        return '저녁'\n",
        "    else:\n",
        "        return '야간'\n",
        "concatenated_df['시간구분']=concatenated_df['시간'].apply(seperate_time)\n",
        "print(concatenated_df['시간구분'].value_counts().sum())\n",
        "concatenated_df['시간구분'].value_counts()"
      ]
    },
    {
      "cell_type": "markdown",
      "metadata": {
        "id": "1UOpu92acbGK"
      },
      "source": [
        "#### 계절 분류"
      ]
    },
    {
      "cell_type": "code",
      "execution_count": 37,
      "metadata": {
        "colab": {
          "base_uri": "https://localhost:8080/"
        },
        "id": "Q8shchXbcbLr",
        "outputId": "5eed779e-e9fe-4efe-adc5-c9a3ae7ea539"
      },
      "outputs": [
        {
          "name": "stdout",
          "output_type": "stream",
          "text": [
            "267353\n"
          ]
        },
        {
          "data": {
            "text/plain": [
              "계절\n",
              "가을    70234\n",
              "여름    68434\n",
              "봄     66607\n",
              "겨울    62078\n",
              "Name: count, dtype: int64"
            ]
          },
          "execution_count": 37,
          "metadata": {},
          "output_type": "execute_result"
        }
      ],
      "source": [
        "def seperate_month(month):\n",
        "    if int(month) in [12,1,2]:\n",
        "        return '겨울'\n",
        "    elif int(month) in [3,4,5]:\n",
        "        return '봄'\n",
        "    elif int(month) in [6,7,8]:\n",
        "        return '여름'\n",
        "    else:\n",
        "        return '가을'\n",
        "concatenated_df['계절']=concatenated_df['월'].apply(seperate_month)\n",
        "print(concatenated_df['계절'].value_counts().sum())\n",
        "concatenated_df['계절'].value_counts()"
      ]
    },
    {
      "cell_type": "markdown",
      "metadata": {
        "id": "BpJ0qSRLcfcV"
      },
      "source": [
        "### 병합된 데이터 전처리 확인"
      ]
    },
    {
      "cell_type": "code",
      "execution_count": 38,
      "metadata": {
        "colab": {
          "base_uri": "https://localhost:8080/",
          "height": 424
        },
        "id": "HXQMtNYoce1H",
        "outputId": "1cef0426-66ac-4319-ad24-4948f8f8bf06"
      },
      "outputs": [
        {
          "data": {
            "text/html": [
              "<div>\n",
              "<style scoped>\n",
              "    .dataframe tbody tr th:only-of-type {\n",
              "        vertical-align: middle;\n",
              "    }\n",
              "\n",
              "    .dataframe tbody tr th {\n",
              "        vertical-align: top;\n",
              "    }\n",
              "\n",
              "    .dataframe thead th {\n",
              "        text-align: right;\n",
              "    }\n",
              "</style>\n",
              "<table border=\"1\" class=\"dataframe\">\n",
              "  <thead>\n",
              "    <tr style=\"text-align: right;\">\n",
              "      <th></th>\n",
              "      <th>요일</th>\n",
              "      <th>기상상태</th>\n",
              "      <th>노면상태</th>\n",
              "      <th>사고유형</th>\n",
              "      <th>사망자수</th>\n",
              "      <th>중상자수</th>\n",
              "      <th>경상자수</th>\n",
              "      <th>부상자수</th>\n",
              "      <th>ECLO</th>\n",
              "      <th>시</th>\n",
              "      <th>구</th>\n",
              "      <th>동</th>\n",
              "      <th>도로형태1</th>\n",
              "      <th>도로형태2</th>\n",
              "      <th>년도</th>\n",
              "      <th>월</th>\n",
              "      <th>시간</th>\n",
              "      <th>holiday</th>\n",
              "      <th>시간구분</th>\n",
              "      <th>계절</th>\n",
              "    </tr>\n",
              "  </thead>\n",
              "  <tbody>\n",
              "    <tr>\n",
              "      <th>0</th>\n",
              "      <td>화요일</td>\n",
              "      <td>맑음</td>\n",
              "      <td>건조</td>\n",
              "      <td>차대사람</td>\n",
              "      <td>0</td>\n",
              "      <td>1</td>\n",
              "      <td>0</td>\n",
              "      <td>0</td>\n",
              "      <td>5</td>\n",
              "      <td>대구광역시</td>\n",
              "      <td>중구</td>\n",
              "      <td>대신동</td>\n",
              "      <td>단일로</td>\n",
              "      <td>기타</td>\n",
              "      <td>2019</td>\n",
              "      <td>1</td>\n",
              "      <td>0</td>\n",
              "      <td>휴일</td>\n",
              "      <td>심야</td>\n",
              "      <td>겨울</td>\n",
              "    </tr>\n",
              "    <tr>\n",
              "      <th>1</th>\n",
              "      <td>화요일</td>\n",
              "      <td>흐림</td>\n",
              "      <td>건조</td>\n",
              "      <td>차대사람</td>\n",
              "      <td>0</td>\n",
              "      <td>0</td>\n",
              "      <td>1</td>\n",
              "      <td>0</td>\n",
              "      <td>3</td>\n",
              "      <td>대구광역시</td>\n",
              "      <td>달서구</td>\n",
              "      <td>감삼동</td>\n",
              "      <td>단일로</td>\n",
              "      <td>기타</td>\n",
              "      <td>2019</td>\n",
              "      <td>1</td>\n",
              "      <td>0</td>\n",
              "      <td>휴일</td>\n",
              "      <td>심야</td>\n",
              "      <td>겨울</td>\n",
              "    </tr>\n",
              "    <tr>\n",
              "      <th>2</th>\n",
              "      <td>화요일</td>\n",
              "      <td>맑음</td>\n",
              "      <td>건조</td>\n",
              "      <td>차대사람</td>\n",
              "      <td>0</td>\n",
              "      <td>0</td>\n",
              "      <td>1</td>\n",
              "      <td>0</td>\n",
              "      <td>3</td>\n",
              "      <td>대구광역시</td>\n",
              "      <td>수성구</td>\n",
              "      <td>두산동</td>\n",
              "      <td>단일로</td>\n",
              "      <td>기타</td>\n",
              "      <td>2019</td>\n",
              "      <td>1</td>\n",
              "      <td>1</td>\n",
              "      <td>휴일</td>\n",
              "      <td>심야</td>\n",
              "      <td>겨울</td>\n",
              "    </tr>\n",
              "    <tr>\n",
              "      <th>3</th>\n",
              "      <td>화요일</td>\n",
              "      <td>맑음</td>\n",
              "      <td>건조</td>\n",
              "      <td>차대차</td>\n",
              "      <td>0</td>\n",
              "      <td>1</td>\n",
              "      <td>0</td>\n",
              "      <td>0</td>\n",
              "      <td>5</td>\n",
              "      <td>대구광역시</td>\n",
              "      <td>북구</td>\n",
              "      <td>복현동</td>\n",
              "      <td>단일로</td>\n",
              "      <td>기타</td>\n",
              "      <td>2019</td>\n",
              "      <td>1</td>\n",
              "      <td>2</td>\n",
              "      <td>휴일</td>\n",
              "      <td>심야</td>\n",
              "      <td>겨울</td>\n",
              "    </tr>\n",
              "    <tr>\n",
              "      <th>4</th>\n",
              "      <td>화요일</td>\n",
              "      <td>맑음</td>\n",
              "      <td>건조</td>\n",
              "      <td>차대차</td>\n",
              "      <td>0</td>\n",
              "      <td>0</td>\n",
              "      <td>1</td>\n",
              "      <td>0</td>\n",
              "      <td>3</td>\n",
              "      <td>대구광역시</td>\n",
              "      <td>동구</td>\n",
              "      <td>신암동</td>\n",
              "      <td>단일로</td>\n",
              "      <td>기타</td>\n",
              "      <td>2019</td>\n",
              "      <td>1</td>\n",
              "      <td>4</td>\n",
              "      <td>휴일</td>\n",
              "      <td>새벽</td>\n",
              "      <td>겨울</td>\n",
              "    </tr>\n",
              "    <tr>\n",
              "      <th>...</th>\n",
              "      <td>...</td>\n",
              "      <td>...</td>\n",
              "      <td>...</td>\n",
              "      <td>...</td>\n",
              "      <td>...</td>\n",
              "      <td>...</td>\n",
              "      <td>...</td>\n",
              "      <td>...</td>\n",
              "      <td>...</td>\n",
              "      <td>...</td>\n",
              "      <td>...</td>\n",
              "      <td>...</td>\n",
              "      <td>...</td>\n",
              "      <td>...</td>\n",
              "      <td>...</td>\n",
              "      <td>...</td>\n",
              "      <td>...</td>\n",
              "      <td>...</td>\n",
              "      <td>...</td>\n",
              "      <td>...</td>\n",
              "    </tr>\n",
              "    <tr>\n",
              "      <th>602766</th>\n",
              "      <td>금요일</td>\n",
              "      <td>맑음</td>\n",
              "      <td>건조</td>\n",
              "      <td>차대사람</td>\n",
              "      <td>0</td>\n",
              "      <td>0</td>\n",
              "      <td>1</td>\n",
              "      <td>0</td>\n",
              "      <td>3</td>\n",
              "      <td>서울특별시</td>\n",
              "      <td>서초구</td>\n",
              "      <td>반포동</td>\n",
              "      <td>단일로</td>\n",
              "      <td>기타</td>\n",
              "      <td>2021</td>\n",
              "      <td>12</td>\n",
              "      <td>23</td>\n",
              "      <td>평일</td>\n",
              "      <td>야간</td>\n",
              "      <td>겨울</td>\n",
              "    </tr>\n",
              "    <tr>\n",
              "      <th>602769</th>\n",
              "      <td>금요일</td>\n",
              "      <td>맑음</td>\n",
              "      <td>건조</td>\n",
              "      <td>차대차</td>\n",
              "      <td>0</td>\n",
              "      <td>1</td>\n",
              "      <td>0</td>\n",
              "      <td>0</td>\n",
              "      <td>5</td>\n",
              "      <td>부산광역시</td>\n",
              "      <td>연제구</td>\n",
              "      <td>연산동</td>\n",
              "      <td>단일로</td>\n",
              "      <td>기타</td>\n",
              "      <td>2021</td>\n",
              "      <td>12</td>\n",
              "      <td>23</td>\n",
              "      <td>평일</td>\n",
              "      <td>야간</td>\n",
              "      <td>겨울</td>\n",
              "    </tr>\n",
              "    <tr>\n",
              "      <th>602770</th>\n",
              "      <td>금요일</td>\n",
              "      <td>흐림</td>\n",
              "      <td>건조</td>\n",
              "      <td>차대차</td>\n",
              "      <td>0</td>\n",
              "      <td>1</td>\n",
              "      <td>1</td>\n",
              "      <td>0</td>\n",
              "      <td>8</td>\n",
              "      <td>부산광역시</td>\n",
              "      <td>해운대구</td>\n",
              "      <td>우동</td>\n",
              "      <td>교차로</td>\n",
              "      <td>교차로안</td>\n",
              "      <td>2021</td>\n",
              "      <td>12</td>\n",
              "      <td>23</td>\n",
              "      <td>평일</td>\n",
              "      <td>야간</td>\n",
              "      <td>겨울</td>\n",
              "    </tr>\n",
              "    <tr>\n",
              "      <th>602771</th>\n",
              "      <td>금요일</td>\n",
              "      <td>맑음</td>\n",
              "      <td>건조</td>\n",
              "      <td>차대차</td>\n",
              "      <td>0</td>\n",
              "      <td>0</td>\n",
              "      <td>2</td>\n",
              "      <td>0</td>\n",
              "      <td>6</td>\n",
              "      <td>서울특별시</td>\n",
              "      <td>성동구</td>\n",
              "      <td>행당동</td>\n",
              "      <td>단일로</td>\n",
              "      <td>기타</td>\n",
              "      <td>2021</td>\n",
              "      <td>12</td>\n",
              "      <td>23</td>\n",
              "      <td>평일</td>\n",
              "      <td>야간</td>\n",
              "      <td>겨울</td>\n",
              "    </tr>\n",
              "    <tr>\n",
              "      <th>602772</th>\n",
              "      <td>금요일</td>\n",
              "      <td>맑음</td>\n",
              "      <td>건조</td>\n",
              "      <td>차대차</td>\n",
              "      <td>0</td>\n",
              "      <td>0</td>\n",
              "      <td>3</td>\n",
              "      <td>0</td>\n",
              "      <td>9</td>\n",
              "      <td>대전광역시</td>\n",
              "      <td>유성구</td>\n",
              "      <td>원신흥동</td>\n",
              "      <td>교차로</td>\n",
              "      <td>교차로안</td>\n",
              "      <td>2021</td>\n",
              "      <td>12</td>\n",
              "      <td>23</td>\n",
              "      <td>평일</td>\n",
              "      <td>야간</td>\n",
              "      <td>겨울</td>\n",
              "    </tr>\n",
              "  </tbody>\n",
              "</table>\n",
              "<p>267353 rows × 20 columns</p>\n",
              "</div>"
            ],
            "text/plain": [
              "         요일 기상상태 노면상태  사고유형  사망자수  중상자수  경상자수  부상자수  ECLO      시     구     동  \\\n",
              "0       화요일   맑음   건조  차대사람     0     1     0     0     5  대구광역시    중구   대신동   \n",
              "1       화요일   흐림   건조  차대사람     0     0     1     0     3  대구광역시   달서구   감삼동   \n",
              "2       화요일   맑음   건조  차대사람     0     0     1     0     3  대구광역시   수성구   두산동   \n",
              "3       화요일   맑음   건조   차대차     0     1     0     0     5  대구광역시    북구   복현동   \n",
              "4       화요일   맑음   건조   차대차     0     0     1     0     3  대구광역시    동구   신암동   \n",
              "...     ...  ...  ...   ...   ...   ...   ...   ...   ...    ...   ...   ...   \n",
              "602766  금요일   맑음   건조  차대사람     0     0     1     0     3  서울특별시   서초구   반포동   \n",
              "602769  금요일   맑음   건조   차대차     0     1     0     0     5  부산광역시   연제구   연산동   \n",
              "602770  금요일   흐림   건조   차대차     0     1     1     0     8  부산광역시  해운대구    우동   \n",
              "602771  금요일   맑음   건조   차대차     0     0     2     0     6  서울특별시   성동구   행당동   \n",
              "602772  금요일   맑음   건조   차대차     0     0     3     0     9  대전광역시   유성구  원신흥동   \n",
              "\n",
              "       도로형태1 도로형태2    년도   월  시간 holiday 시간구분  계절  \n",
              "0        단일로    기타  2019   1   0      휴일   심야  겨울  \n",
              "1        단일로    기타  2019   1   0      휴일   심야  겨울  \n",
              "2        단일로    기타  2019   1   1      휴일   심야  겨울  \n",
              "3        단일로    기타  2019   1   2      휴일   심야  겨울  \n",
              "4        단일로    기타  2019   1   4      휴일   새벽  겨울  \n",
              "...      ...   ...   ...  ..  ..     ...  ...  ..  \n",
              "602766   단일로    기타  2021  12  23      평일   야간  겨울  \n",
              "602769   단일로    기타  2021  12  23      평일   야간  겨울  \n",
              "602770   교차로  교차로안  2021  12  23      평일   야간  겨울  \n",
              "602771   단일로    기타  2021  12  23      평일   야간  겨울  \n",
              "602772   교차로  교차로안  2021  12  23      평일   야간  겨울  \n",
              "\n",
              "[267353 rows x 20 columns]"
            ]
          },
          "execution_count": 38,
          "metadata": {},
          "output_type": "execute_result"
        }
      ],
      "source": [
        "concatenated_df"
      ]
    },
    {
      "cell_type": "markdown",
      "metadata": {
        "id": "OpAXuYkbdN0t"
      },
      "source": [
        "### 테스트 데이터 전처리 진행"
      ]
    },
    {
      "cell_type": "code",
      "execution_count": 39,
      "metadata": {
        "id": "AknmzRW3dNBv"
      },
      "outputs": [],
      "source": [
        "test=test_data.copy()"
      ]
    },
    {
      "cell_type": "code",
      "execution_count": 40,
      "metadata": {
        "id": "dE6OzzvJdfdq"
      },
      "outputs": [],
      "source": [
        "test[['시','구','동']] = test['시군구'].str.split(' ',expand=True)\n",
        "test.drop(['시군구'],inplace=True, axis=1)"
      ]
    },
    {
      "cell_type": "code",
      "execution_count": 41,
      "metadata": {
        "id": "GSzT8fCedh4b"
      },
      "outputs": [],
      "source": [
        "test[['도로형태1', '도로형태2']] = test['도로형태'].str.split(' - ', expand=True)\n",
        "test.drop(['도로형태'],inplace=True, axis=1)"
      ]
    },
    {
      "cell_type": "code",
      "execution_count": 42,
      "metadata": {
        "id": "xLgYLi9eZ5AO"
      },
      "outputs": [],
      "source": [
        "kr_holidays = ['2019-01-01', '2019-02-04', '2019-02-05', '2019-02-06', '2019-03-01', '2019-05-05', '2019-05-12', '2019-06-06', '2019-08-15', '2019-09-12', '2019-09-13', '2019-09-14', '2019-10-03', '2019-10-09', '2019-12-25',\n",
        "                '2020-01-01' ,'2020-01-24' ,'2020-01-25', '2020-01-26', '2020-03-01', '2020-04-30', '2020-05-05', '2020-06-06', '2020-08-15', '2020-08-17', '2020-09-30', '2020-10-01', '2020-10-02', '2020-10-03', '2020-10-09', '2020-12-25',\n",
        "                '2021-01-01' ,'2021-02-11' ,'2021-02-12', '2021-02-13', '2021-03-01', '2021-05-05', '2021-05-19', '2021-06-06', '2021-08-15', '2021-09-20', '2021-09-21', '2021-09-22', '2021-10-03', '2021-10-09', '2021-12-25',\n",
        "                '2022-01-01' ,'2022-01-31' ,'2022-02-01', '2022-02-02', '2022-03-01', '2022-05-05', '2022-05-08', '2022-06-06', '2022-08-15', '2022-09-09', '2022-09-10', '2022-09-11', '2022-09-12', '2022-10-03', '2022-10-09', '2020-10-10', '2022-12-25',\n",
        "                '2023-01-01' ,'2023-01-21' ,'2023-01-22', '2023-01-23', '2023-01-24', '2023-03-01', '2023-05-05', '2023-05-26', '2023-06-06', '2023-08-15', '2023-09-28', '2023-09-29', '2023-09-30', '2023-10-03', '2023-10-09', '2023-12-25']\n"
      ]
    },
    {
      "cell_type": "code",
      "execution_count": 43,
      "metadata": {
        "id": "bAgkPXu0aOih"
      },
      "outputs": [],
      "source": [
        "test['사고일시'] = pd.to_datetime(test['사고일시'])\n",
        "\n",
        "# datetime에서 year, month, day, hour 추출하여 새로운 열 생성\n",
        "test['년도'] = test['사고일시'].dt.year\n",
        "test['월'] = test['사고일시'].dt.month\n",
        "test['day'] = test['사고일시'].dt.day\n",
        "test['시간'] = test['사고일시'].dt.hour\n",
        "test['day_of_week'] = test['사고일시'].dt.dayofweek\n",
        "\n",
        "test['holiday'] = np.where((test.day_of_week >= 5) | (test.사고일시.dt.strftime('%Y-%m-%d').isin(kr_holidays)), '휴일', '평일')\n",
        "\n",
        "test.drop(columns=['사고일시'], inplace=True)\n",
        "test.drop(['day', 'day_of_week'], inplace=True, axis=1)"
      ]
    },
    {
      "cell_type": "code",
      "execution_count": 44,
      "metadata": {
        "id": "j6BgY617djfJ"
      },
      "outputs": [],
      "source": [
        "test['시간구분']=test['시간'].apply(seperate_time)"
      ]
    },
    {
      "cell_type": "code",
      "execution_count": 45,
      "metadata": {
        "colab": {
          "base_uri": "https://localhost:8080/"
        },
        "id": "dDCuSs-IdqHO",
        "outputId": "d1ed239a-8de0-4600-c3bb-10164c798755"
      },
      "outputs": [
        {
          "data": {
            "text/plain": [
              "계절\n",
              "가을    2947\n",
              "여름    2783\n",
              "봄     2771\n",
              "겨울    2462\n",
              "Name: count, dtype: int64"
            ]
          },
          "execution_count": 45,
          "metadata": {},
          "output_type": "execute_result"
        }
      ],
      "source": [
        "test['계절']=test['월'].apply(seperate_month)\n",
        "test['계절'].value_counts()"
      ]
    },
    {
      "cell_type": "markdown",
      "metadata": {
        "id": "ghxd61KedxF7"
      },
      "source": [
        "#### 테스트 데이터 전처리 결과 확인"
      ]
    },
    {
      "cell_type": "code",
      "execution_count": 46,
      "metadata": {
        "colab": {
          "base_uri": "https://localhost:8080/",
          "height": 424
        },
        "id": "c-isqIsSdt1H",
        "outputId": "fbbe3753-c3f9-4bd8-c98a-1c9d4769ac95"
      },
      "outputs": [
        {
          "data": {
            "text/html": [
              "<div>\n",
              "<style scoped>\n",
              "    .dataframe tbody tr th:only-of-type {\n",
              "        vertical-align: middle;\n",
              "    }\n",
              "\n",
              "    .dataframe tbody tr th {\n",
              "        vertical-align: top;\n",
              "    }\n",
              "\n",
              "    .dataframe thead th {\n",
              "        text-align: right;\n",
              "    }\n",
              "</style>\n",
              "<table border=\"1\" class=\"dataframe\">\n",
              "  <thead>\n",
              "    <tr style=\"text-align: right;\">\n",
              "      <th></th>\n",
              "      <th>ID</th>\n",
              "      <th>요일</th>\n",
              "      <th>기상상태</th>\n",
              "      <th>노면상태</th>\n",
              "      <th>사고유형</th>\n",
              "      <th>시</th>\n",
              "      <th>구</th>\n",
              "      <th>동</th>\n",
              "      <th>도로형태1</th>\n",
              "      <th>도로형태2</th>\n",
              "      <th>년도</th>\n",
              "      <th>월</th>\n",
              "      <th>시간</th>\n",
              "      <th>holiday</th>\n",
              "      <th>시간구분</th>\n",
              "      <th>계절</th>\n",
              "    </tr>\n",
              "  </thead>\n",
              "  <tbody>\n",
              "    <tr>\n",
              "      <th>0</th>\n",
              "      <td>ACCIDENT_39609</td>\n",
              "      <td>토요일</td>\n",
              "      <td>맑음</td>\n",
              "      <td>건조</td>\n",
              "      <td>차대사람</td>\n",
              "      <td>대구광역시</td>\n",
              "      <td>수성구</td>\n",
              "      <td>상동</td>\n",
              "      <td>교차로</td>\n",
              "      <td>교차로안</td>\n",
              "      <td>2022</td>\n",
              "      <td>1</td>\n",
              "      <td>1</td>\n",
              "      <td>휴일</td>\n",
              "      <td>심야</td>\n",
              "      <td>겨울</td>\n",
              "    </tr>\n",
              "    <tr>\n",
              "      <th>1</th>\n",
              "      <td>ACCIDENT_39610</td>\n",
              "      <td>토요일</td>\n",
              "      <td>맑음</td>\n",
              "      <td>건조</td>\n",
              "      <td>차대사람</td>\n",
              "      <td>대구광역시</td>\n",
              "      <td>수성구</td>\n",
              "      <td>지산동</td>\n",
              "      <td>단일로</td>\n",
              "      <td>기타</td>\n",
              "      <td>2022</td>\n",
              "      <td>1</td>\n",
              "      <td>1</td>\n",
              "      <td>휴일</td>\n",
              "      <td>심야</td>\n",
              "      <td>겨울</td>\n",
              "    </tr>\n",
              "    <tr>\n",
              "      <th>2</th>\n",
              "      <td>ACCIDENT_39611</td>\n",
              "      <td>토요일</td>\n",
              "      <td>맑음</td>\n",
              "      <td>건조</td>\n",
              "      <td>차대차</td>\n",
              "      <td>대구광역시</td>\n",
              "      <td>수성구</td>\n",
              "      <td>수성동2가</td>\n",
              "      <td>교차로</td>\n",
              "      <td>교차로안</td>\n",
              "      <td>2022</td>\n",
              "      <td>1</td>\n",
              "      <td>4</td>\n",
              "      <td>휴일</td>\n",
              "      <td>새벽</td>\n",
              "      <td>겨울</td>\n",
              "    </tr>\n",
              "    <tr>\n",
              "      <th>3</th>\n",
              "      <td>ACCIDENT_39612</td>\n",
              "      <td>토요일</td>\n",
              "      <td>맑음</td>\n",
              "      <td>건조</td>\n",
              "      <td>차대차</td>\n",
              "      <td>대구광역시</td>\n",
              "      <td>수성구</td>\n",
              "      <td>신매동</td>\n",
              "      <td>단일로</td>\n",
              "      <td>기타</td>\n",
              "      <td>2022</td>\n",
              "      <td>1</td>\n",
              "      <td>4</td>\n",
              "      <td>휴일</td>\n",
              "      <td>새벽</td>\n",
              "      <td>겨울</td>\n",
              "    </tr>\n",
              "    <tr>\n",
              "      <th>4</th>\n",
              "      <td>ACCIDENT_39613</td>\n",
              "      <td>토요일</td>\n",
              "      <td>맑음</td>\n",
              "      <td>건조</td>\n",
              "      <td>차대차</td>\n",
              "      <td>대구광역시</td>\n",
              "      <td>달서구</td>\n",
              "      <td>감삼동</td>\n",
              "      <td>교차로</td>\n",
              "      <td>교차로안</td>\n",
              "      <td>2022</td>\n",
              "      <td>1</td>\n",
              "      <td>6</td>\n",
              "      <td>휴일</td>\n",
              "      <td>새벽</td>\n",
              "      <td>겨울</td>\n",
              "    </tr>\n",
              "    <tr>\n",
              "      <th>...</th>\n",
              "      <td>...</td>\n",
              "      <td>...</td>\n",
              "      <td>...</td>\n",
              "      <td>...</td>\n",
              "      <td>...</td>\n",
              "      <td>...</td>\n",
              "      <td>...</td>\n",
              "      <td>...</td>\n",
              "      <td>...</td>\n",
              "      <td>...</td>\n",
              "      <td>...</td>\n",
              "      <td>...</td>\n",
              "      <td>...</td>\n",
              "      <td>...</td>\n",
              "      <td>...</td>\n",
              "      <td>...</td>\n",
              "    </tr>\n",
              "    <tr>\n",
              "      <th>10958</th>\n",
              "      <td>ACCIDENT_50567</td>\n",
              "      <td>토요일</td>\n",
              "      <td>맑음</td>\n",
              "      <td>건조</td>\n",
              "      <td>차대차</td>\n",
              "      <td>대구광역시</td>\n",
              "      <td>남구</td>\n",
              "      <td>대명동</td>\n",
              "      <td>단일로</td>\n",
              "      <td>터널</td>\n",
              "      <td>2022</td>\n",
              "      <td>12</td>\n",
              "      <td>18</td>\n",
              "      <td>휴일</td>\n",
              "      <td>저녁</td>\n",
              "      <td>겨울</td>\n",
              "    </tr>\n",
              "    <tr>\n",
              "      <th>10959</th>\n",
              "      <td>ACCIDENT_50568</td>\n",
              "      <td>토요일</td>\n",
              "      <td>맑음</td>\n",
              "      <td>건조</td>\n",
              "      <td>차대차</td>\n",
              "      <td>대구광역시</td>\n",
              "      <td>수성구</td>\n",
              "      <td>시지동</td>\n",
              "      <td>단일로</td>\n",
              "      <td>기타</td>\n",
              "      <td>2022</td>\n",
              "      <td>12</td>\n",
              "      <td>18</td>\n",
              "      <td>휴일</td>\n",
              "      <td>저녁</td>\n",
              "      <td>겨울</td>\n",
              "    </tr>\n",
              "    <tr>\n",
              "      <th>10960</th>\n",
              "      <td>ACCIDENT_50569</td>\n",
              "      <td>토요일</td>\n",
              "      <td>맑음</td>\n",
              "      <td>건조</td>\n",
              "      <td>차대차</td>\n",
              "      <td>대구광역시</td>\n",
              "      <td>수성구</td>\n",
              "      <td>연호동</td>\n",
              "      <td>단일로</td>\n",
              "      <td>기타</td>\n",
              "      <td>2022</td>\n",
              "      <td>12</td>\n",
              "      <td>20</td>\n",
              "      <td>휴일</td>\n",
              "      <td>야간</td>\n",
              "      <td>겨울</td>\n",
              "    </tr>\n",
              "    <tr>\n",
              "      <th>10961</th>\n",
              "      <td>ACCIDENT_50570</td>\n",
              "      <td>토요일</td>\n",
              "      <td>맑음</td>\n",
              "      <td>건조</td>\n",
              "      <td>차대차</td>\n",
              "      <td>대구광역시</td>\n",
              "      <td>수성구</td>\n",
              "      <td>범물동</td>\n",
              "      <td>교차로</td>\n",
              "      <td>교차로부근</td>\n",
              "      <td>2022</td>\n",
              "      <td>12</td>\n",
              "      <td>20</td>\n",
              "      <td>휴일</td>\n",
              "      <td>야간</td>\n",
              "      <td>겨울</td>\n",
              "    </tr>\n",
              "    <tr>\n",
              "      <th>10962</th>\n",
              "      <td>ACCIDENT_50571</td>\n",
              "      <td>토요일</td>\n",
              "      <td>맑음</td>\n",
              "      <td>건조</td>\n",
              "      <td>차대차</td>\n",
              "      <td>대구광역시</td>\n",
              "      <td>동구</td>\n",
              "      <td>효목동</td>\n",
              "      <td>교차로</td>\n",
              "      <td>교차로부근</td>\n",
              "      <td>2022</td>\n",
              "      <td>12</td>\n",
              "      <td>21</td>\n",
              "      <td>휴일</td>\n",
              "      <td>야간</td>\n",
              "      <td>겨울</td>\n",
              "    </tr>\n",
              "  </tbody>\n",
              "</table>\n",
              "<p>10963 rows × 16 columns</p>\n",
              "</div>"
            ],
            "text/plain": [
              "                   ID   요일 기상상태 노면상태  사고유형      시    구      동 도로형태1  도로형태2  \\\n",
              "0      ACCIDENT_39609  토요일   맑음   건조  차대사람  대구광역시  수성구     상동   교차로   교차로안   \n",
              "1      ACCIDENT_39610  토요일   맑음   건조  차대사람  대구광역시  수성구    지산동   단일로     기타   \n",
              "2      ACCIDENT_39611  토요일   맑음   건조   차대차  대구광역시  수성구  수성동2가   교차로   교차로안   \n",
              "3      ACCIDENT_39612  토요일   맑음   건조   차대차  대구광역시  수성구    신매동   단일로     기타   \n",
              "4      ACCIDENT_39613  토요일   맑음   건조   차대차  대구광역시  달서구    감삼동   교차로   교차로안   \n",
              "...               ...  ...  ...  ...   ...    ...  ...    ...   ...    ...   \n",
              "10958  ACCIDENT_50567  토요일   맑음   건조   차대차  대구광역시   남구    대명동   단일로     터널   \n",
              "10959  ACCIDENT_50568  토요일   맑음   건조   차대차  대구광역시  수성구    시지동   단일로     기타   \n",
              "10960  ACCIDENT_50569  토요일   맑음   건조   차대차  대구광역시  수성구    연호동   단일로     기타   \n",
              "10961  ACCIDENT_50570  토요일   맑음   건조   차대차  대구광역시  수성구    범물동   교차로  교차로부근   \n",
              "10962  ACCIDENT_50571  토요일   맑음   건조   차대차  대구광역시   동구    효목동   교차로  교차로부근   \n",
              "\n",
              "         년도   월  시간 holiday 시간구분  계절  \n",
              "0      2022   1   1      휴일   심야  겨울  \n",
              "1      2022   1   1      휴일   심야  겨울  \n",
              "2      2022   1   4      휴일   새벽  겨울  \n",
              "3      2022   1   4      휴일   새벽  겨울  \n",
              "4      2022   1   6      휴일   새벽  겨울  \n",
              "...     ...  ..  ..     ...  ...  ..  \n",
              "10958  2022  12  18      휴일   저녁  겨울  \n",
              "10959  2022  12  18      휴일   저녁  겨울  \n",
              "10960  2022  12  20      휴일   야간  겨울  \n",
              "10961  2022  12  20      휴일   야간  겨울  \n",
              "10962  2022  12  21      휴일   야간  겨울  \n",
              "\n",
              "[10963 rows x 16 columns]"
            ]
          },
          "execution_count": 46,
          "metadata": {},
          "output_type": "execute_result"
        }
      ],
      "source": [
        "test"
      ]
    },
    {
      "cell_type": "markdown",
      "metadata": {},
      "source": [
        "#### 합쳐진 훈련 데이터 셋 오류 수정"
      ]
    },
    {
      "cell_type": "code",
      "execution_count": 50,
      "metadata": {},
      "outputs": [],
      "source": [
        "concatenated_df = concatenated_df[~concatenated_df['기상상태'].str.split().str[-1].str.contains('안개')]\n",
        "concatenated_df = concatenated_df[~concatenated_df['노면상태'].str.split().str[-1].str.contains('해빙')]"
      ]
    },
    {
      "cell_type": "code",
      "execution_count": 51,
      "metadata": {},
      "outputs": [
        {
          "data": {
            "text/html": [
              "<div>\n",
              "<style scoped>\n",
              "    .dataframe tbody tr th:only-of-type {\n",
              "        vertical-align: middle;\n",
              "    }\n",
              "\n",
              "    .dataframe tbody tr th {\n",
              "        vertical-align: top;\n",
              "    }\n",
              "\n",
              "    .dataframe thead th {\n",
              "        text-align: right;\n",
              "    }\n",
              "</style>\n",
              "<table border=\"1\" class=\"dataframe\">\n",
              "  <thead>\n",
              "    <tr style=\"text-align: right;\">\n",
              "      <th></th>\n",
              "      <th>요일</th>\n",
              "      <th>기상상태</th>\n",
              "      <th>노면상태</th>\n",
              "      <th>사고유형</th>\n",
              "      <th>사망자수</th>\n",
              "      <th>중상자수</th>\n",
              "      <th>경상자수</th>\n",
              "      <th>부상자수</th>\n",
              "      <th>ECLO</th>\n",
              "      <th>시</th>\n",
              "      <th>구</th>\n",
              "      <th>동</th>\n",
              "      <th>도로형태1</th>\n",
              "      <th>도로형태2</th>\n",
              "      <th>년도</th>\n",
              "      <th>월</th>\n",
              "      <th>시간</th>\n",
              "      <th>holiday</th>\n",
              "      <th>시간구분</th>\n",
              "      <th>계절</th>\n",
              "    </tr>\n",
              "  </thead>\n",
              "  <tbody>\n",
              "    <tr>\n",
              "      <th>0</th>\n",
              "      <td>화요일</td>\n",
              "      <td>맑음</td>\n",
              "      <td>건조</td>\n",
              "      <td>차대사람</td>\n",
              "      <td>0</td>\n",
              "      <td>1</td>\n",
              "      <td>0</td>\n",
              "      <td>0</td>\n",
              "      <td>5</td>\n",
              "      <td>대구광역시</td>\n",
              "      <td>중구</td>\n",
              "      <td>대신동</td>\n",
              "      <td>단일로</td>\n",
              "      <td>기타</td>\n",
              "      <td>2019</td>\n",
              "      <td>1</td>\n",
              "      <td>0</td>\n",
              "      <td>휴일</td>\n",
              "      <td>심야</td>\n",
              "      <td>겨울</td>\n",
              "    </tr>\n",
              "    <tr>\n",
              "      <th>1</th>\n",
              "      <td>화요일</td>\n",
              "      <td>흐림</td>\n",
              "      <td>건조</td>\n",
              "      <td>차대사람</td>\n",
              "      <td>0</td>\n",
              "      <td>0</td>\n",
              "      <td>1</td>\n",
              "      <td>0</td>\n",
              "      <td>3</td>\n",
              "      <td>대구광역시</td>\n",
              "      <td>달서구</td>\n",
              "      <td>감삼동</td>\n",
              "      <td>단일로</td>\n",
              "      <td>기타</td>\n",
              "      <td>2019</td>\n",
              "      <td>1</td>\n",
              "      <td>0</td>\n",
              "      <td>휴일</td>\n",
              "      <td>심야</td>\n",
              "      <td>겨울</td>\n",
              "    </tr>\n",
              "    <tr>\n",
              "      <th>2</th>\n",
              "      <td>화요일</td>\n",
              "      <td>맑음</td>\n",
              "      <td>건조</td>\n",
              "      <td>차대사람</td>\n",
              "      <td>0</td>\n",
              "      <td>0</td>\n",
              "      <td>1</td>\n",
              "      <td>0</td>\n",
              "      <td>3</td>\n",
              "      <td>대구광역시</td>\n",
              "      <td>수성구</td>\n",
              "      <td>두산동</td>\n",
              "      <td>단일로</td>\n",
              "      <td>기타</td>\n",
              "      <td>2019</td>\n",
              "      <td>1</td>\n",
              "      <td>1</td>\n",
              "      <td>휴일</td>\n",
              "      <td>심야</td>\n",
              "      <td>겨울</td>\n",
              "    </tr>\n",
              "    <tr>\n",
              "      <th>3</th>\n",
              "      <td>화요일</td>\n",
              "      <td>맑음</td>\n",
              "      <td>건조</td>\n",
              "      <td>차대차</td>\n",
              "      <td>0</td>\n",
              "      <td>1</td>\n",
              "      <td>0</td>\n",
              "      <td>0</td>\n",
              "      <td>5</td>\n",
              "      <td>대구광역시</td>\n",
              "      <td>북구</td>\n",
              "      <td>복현동</td>\n",
              "      <td>단일로</td>\n",
              "      <td>기타</td>\n",
              "      <td>2019</td>\n",
              "      <td>1</td>\n",
              "      <td>2</td>\n",
              "      <td>휴일</td>\n",
              "      <td>심야</td>\n",
              "      <td>겨울</td>\n",
              "    </tr>\n",
              "    <tr>\n",
              "      <th>4</th>\n",
              "      <td>화요일</td>\n",
              "      <td>맑음</td>\n",
              "      <td>건조</td>\n",
              "      <td>차대차</td>\n",
              "      <td>0</td>\n",
              "      <td>0</td>\n",
              "      <td>1</td>\n",
              "      <td>0</td>\n",
              "      <td>3</td>\n",
              "      <td>대구광역시</td>\n",
              "      <td>동구</td>\n",
              "      <td>신암동</td>\n",
              "      <td>단일로</td>\n",
              "      <td>기타</td>\n",
              "      <td>2019</td>\n",
              "      <td>1</td>\n",
              "      <td>4</td>\n",
              "      <td>휴일</td>\n",
              "      <td>새벽</td>\n",
              "      <td>겨울</td>\n",
              "    </tr>\n",
              "    <tr>\n",
              "      <th>...</th>\n",
              "      <td>...</td>\n",
              "      <td>...</td>\n",
              "      <td>...</td>\n",
              "      <td>...</td>\n",
              "      <td>...</td>\n",
              "      <td>...</td>\n",
              "      <td>...</td>\n",
              "      <td>...</td>\n",
              "      <td>...</td>\n",
              "      <td>...</td>\n",
              "      <td>...</td>\n",
              "      <td>...</td>\n",
              "      <td>...</td>\n",
              "      <td>...</td>\n",
              "      <td>...</td>\n",
              "      <td>...</td>\n",
              "      <td>...</td>\n",
              "      <td>...</td>\n",
              "      <td>...</td>\n",
              "      <td>...</td>\n",
              "    </tr>\n",
              "    <tr>\n",
              "      <th>602766</th>\n",
              "      <td>금요일</td>\n",
              "      <td>맑음</td>\n",
              "      <td>건조</td>\n",
              "      <td>차대사람</td>\n",
              "      <td>0</td>\n",
              "      <td>0</td>\n",
              "      <td>1</td>\n",
              "      <td>0</td>\n",
              "      <td>3</td>\n",
              "      <td>서울특별시</td>\n",
              "      <td>서초구</td>\n",
              "      <td>반포동</td>\n",
              "      <td>단일로</td>\n",
              "      <td>기타</td>\n",
              "      <td>2021</td>\n",
              "      <td>12</td>\n",
              "      <td>23</td>\n",
              "      <td>평일</td>\n",
              "      <td>야간</td>\n",
              "      <td>겨울</td>\n",
              "    </tr>\n",
              "    <tr>\n",
              "      <th>602769</th>\n",
              "      <td>금요일</td>\n",
              "      <td>맑음</td>\n",
              "      <td>건조</td>\n",
              "      <td>차대차</td>\n",
              "      <td>0</td>\n",
              "      <td>1</td>\n",
              "      <td>0</td>\n",
              "      <td>0</td>\n",
              "      <td>5</td>\n",
              "      <td>부산광역시</td>\n",
              "      <td>연제구</td>\n",
              "      <td>연산동</td>\n",
              "      <td>단일로</td>\n",
              "      <td>기타</td>\n",
              "      <td>2021</td>\n",
              "      <td>12</td>\n",
              "      <td>23</td>\n",
              "      <td>평일</td>\n",
              "      <td>야간</td>\n",
              "      <td>겨울</td>\n",
              "    </tr>\n",
              "    <tr>\n",
              "      <th>602770</th>\n",
              "      <td>금요일</td>\n",
              "      <td>흐림</td>\n",
              "      <td>건조</td>\n",
              "      <td>차대차</td>\n",
              "      <td>0</td>\n",
              "      <td>1</td>\n",
              "      <td>1</td>\n",
              "      <td>0</td>\n",
              "      <td>8</td>\n",
              "      <td>부산광역시</td>\n",
              "      <td>해운대구</td>\n",
              "      <td>우동</td>\n",
              "      <td>교차로</td>\n",
              "      <td>교차로안</td>\n",
              "      <td>2021</td>\n",
              "      <td>12</td>\n",
              "      <td>23</td>\n",
              "      <td>평일</td>\n",
              "      <td>야간</td>\n",
              "      <td>겨울</td>\n",
              "    </tr>\n",
              "    <tr>\n",
              "      <th>602771</th>\n",
              "      <td>금요일</td>\n",
              "      <td>맑음</td>\n",
              "      <td>건조</td>\n",
              "      <td>차대차</td>\n",
              "      <td>0</td>\n",
              "      <td>0</td>\n",
              "      <td>2</td>\n",
              "      <td>0</td>\n",
              "      <td>6</td>\n",
              "      <td>서울특별시</td>\n",
              "      <td>성동구</td>\n",
              "      <td>행당동</td>\n",
              "      <td>단일로</td>\n",
              "      <td>기타</td>\n",
              "      <td>2021</td>\n",
              "      <td>12</td>\n",
              "      <td>23</td>\n",
              "      <td>평일</td>\n",
              "      <td>야간</td>\n",
              "      <td>겨울</td>\n",
              "    </tr>\n",
              "    <tr>\n",
              "      <th>602772</th>\n",
              "      <td>금요일</td>\n",
              "      <td>맑음</td>\n",
              "      <td>건조</td>\n",
              "      <td>차대차</td>\n",
              "      <td>0</td>\n",
              "      <td>0</td>\n",
              "      <td>3</td>\n",
              "      <td>0</td>\n",
              "      <td>9</td>\n",
              "      <td>대전광역시</td>\n",
              "      <td>유성구</td>\n",
              "      <td>원신흥동</td>\n",
              "      <td>교차로</td>\n",
              "      <td>교차로안</td>\n",
              "      <td>2021</td>\n",
              "      <td>12</td>\n",
              "      <td>23</td>\n",
              "      <td>평일</td>\n",
              "      <td>야간</td>\n",
              "      <td>겨울</td>\n",
              "    </tr>\n",
              "  </tbody>\n",
              "</table>\n",
              "<p>267300 rows × 20 columns</p>\n",
              "</div>"
            ],
            "text/plain": [
              "         요일 기상상태 노면상태  사고유형  사망자수  중상자수  경상자수  부상자수  ECLO      시     구     동  \\\n",
              "0       화요일   맑음   건조  차대사람     0     1     0     0     5  대구광역시    중구   대신동   \n",
              "1       화요일   흐림   건조  차대사람     0     0     1     0     3  대구광역시   달서구   감삼동   \n",
              "2       화요일   맑음   건조  차대사람     0     0     1     0     3  대구광역시   수성구   두산동   \n",
              "3       화요일   맑음   건조   차대차     0     1     0     0     5  대구광역시    북구   복현동   \n",
              "4       화요일   맑음   건조   차대차     0     0     1     0     3  대구광역시    동구   신암동   \n",
              "...     ...  ...  ...   ...   ...   ...   ...   ...   ...    ...   ...   ...   \n",
              "602766  금요일   맑음   건조  차대사람     0     0     1     0     3  서울특별시   서초구   반포동   \n",
              "602769  금요일   맑음   건조   차대차     0     1     0     0     5  부산광역시   연제구   연산동   \n",
              "602770  금요일   흐림   건조   차대차     0     1     1     0     8  부산광역시  해운대구    우동   \n",
              "602771  금요일   맑음   건조   차대차     0     0     2     0     6  서울특별시   성동구   행당동   \n",
              "602772  금요일   맑음   건조   차대차     0     0     3     0     9  대전광역시   유성구  원신흥동   \n",
              "\n",
              "       도로형태1 도로형태2    년도   월  시간 holiday 시간구분  계절  \n",
              "0        단일로    기타  2019   1   0      휴일   심야  겨울  \n",
              "1        단일로    기타  2019   1   0      휴일   심야  겨울  \n",
              "2        단일로    기타  2019   1   1      휴일   심야  겨울  \n",
              "3        단일로    기타  2019   1   2      휴일   심야  겨울  \n",
              "4        단일로    기타  2019   1   4      휴일   새벽  겨울  \n",
              "...      ...   ...   ...  ..  ..     ...  ...  ..  \n",
              "602766   단일로    기타  2021  12  23      평일   야간  겨울  \n",
              "602769   단일로    기타  2021  12  23      평일   야간  겨울  \n",
              "602770   교차로  교차로안  2021  12  23      평일   야간  겨울  \n",
              "602771   단일로    기타  2021  12  23      평일   야간  겨울  \n",
              "602772   교차로  교차로안  2021  12  23      평일   야간  겨울  \n",
              "\n",
              "[267300 rows x 20 columns]"
            ]
          },
          "execution_count": 51,
          "metadata": {},
          "output_type": "execute_result"
        }
      ],
      "source": [
        "concatenated_df"
      ]
    },
    {
      "cell_type": "markdown",
      "metadata": {},
      "source": [
        "#### 전처리 데이터 저장 - 전처리 매번 로딩할 필요 없다"
      ]
    },
    {
      "cell_type": "code",
      "execution_count": null,
      "metadata": {},
      "outputs": [],
      "source": [
        "concatenated_df.to_csv(path + f'/데이터들/인코딩 없음/train.csv')\n",
        "test.to_csv(path + f'/데이터들/인코딩 없음/test.csv')"
      ]
    },
    {
      "cell_type": "code",
      "execution_count": null,
      "metadata": {},
      "outputs": [],
      "source": [
        "path = os.getcwd()\n",
        "\n",
        "concatenated_df.to_csv(path + f'/데이터들/인코딩 없음/train.csv')\n",
        "test = pd.read_csv(path + f'/데이터들/인코딩 없음/test.csv')"
      ]
    }
  ],
  "metadata": {
    "colab": {
      "authorship_tag": "ABX9TyPfXVjzee6u3ZF7tmg8AC8F",
      "include_colab_link": true,
      "mount_file_id": "1dS4lRSUFr3O_VOn3VcLyKe1hJbMxv1ED",
      "provenance": []
    },
    "kernelspec": {
      "display_name": "Python 3",
      "name": "python3"
    },
    "language_info": {
      "codemirror_mode": {
        "name": "ipython",
        "version": 3
      },
      "file_extension": ".py",
      "mimetype": "text/x-python",
      "name": "python",
      "nbconvert_exporter": "python",
      "pygments_lexer": "ipython3",
      "version": "3.12.2"
    }
  },
  "nbformat": 4,
  "nbformat_minor": 0
}
